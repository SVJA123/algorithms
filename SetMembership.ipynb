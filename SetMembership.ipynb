{
 "cells": [
  {
   "cell_type": "markdown",
   "metadata": {},
   "source": [
    "# Set Membership"
   ]
  },
  {
   "cell_type": "markdown",
   "metadata": {},
   "source": [
    "The cell below defines two **abstract classes**: the first represents a set and basic insert/search operations on it. You will need to impement this API four times, to implement (1) sequential search, (2) binary search tree, (3) balanced search tree, and (4) bloom filter. The second defines the synthetic data generator you will need to implement as part of your experimental framework. <br><br>**Do NOT modify the next cell** - use the dedicated cells further below for your implementation instead. <br>"
   ]
  },
  {
   "cell_type": "code",
   "execution_count": 1,
   "metadata": {},
   "outputs": [],
   "source": [
    "# DO NOT MODIFY THIS CELL\n",
    "\n",
    "from abc import ABC, abstractmethod\n",
    "\n",
    "\n",
    "# abstract class to represent a set and its insert/search operations\n",
    "class AbstractSet(ABC):\n",
    "    \n",
    "    # constructor\n",
    "    @abstractmethod\n",
    "    def __init__(self):\n",
    "        pass           \n",
    "        \n",
    "    # inserts \"element\" in the set\n",
    "    # returns \"True\" after successful insertion, \"False\" if the element is already in the set\n",
    "    # element : str\n",
    "    # inserted : bool\n",
    "    @abstractmethod\n",
    "    def insertElement(self, element):     \n",
    "        inserted = False\n",
    "        return inserted   \n",
    "    \n",
    "    # checks whether \"element\" is in the set\n",
    "    # returns \"True\" if it is, \"False\" otherwise\n",
    "    # element : str\n",
    "    # found : bool\n",
    "    @abstractmethod\n",
    "    def searchElement(self, element):\n",
    "        found = False\n",
    "        return found    \n",
    "    \n",
    "    \n",
    "    \n",
    "# abstract class to represent a synthetic data generator\n",
    "class AbstractTestDataGenerator(ABC):\n",
    "    \n",
    "    # constructor\n",
    "    @abstractmethod\n",
    "    def __init__(self):\n",
    "        pass           \n",
    "        \n",
    "    # creates and returns a list of length \"size\" of strings\n",
    "    # size : int\n",
    "    # data : list<str>\n",
    "    @abstractmethod\n",
    "    def generateData(self, size):     \n",
    "        data = [\"\"]*size\n",
    "        return data   \n"
   ]
  },
  {
   "cell_type": "markdown",
   "metadata": {},
   "source": [
    "Use the cell below to define any auxiliary data structure and python function you may need. Leave the implementation of the main API to the next code cells instead."
   ]
  },
  {
   "cell_type": "code",
   "execution_count": 2,
   "metadata": {},
   "outputs": [],
   "source": [
    "# ADD AUXILIARY DATA STRUCTURE DEFINITIONS AND HELPER CODE HERE\n",
    "def heapify(arr, n, i): #Not sure if needed or not\n",
    "    largest = i  \n",
    "    l = 2 * i + 1  \n",
    "    r = 2 * i + 2  \n",
    "  \n",
    "    if l < n and arr[i] < arr[l]:\n",
    "        largest = l\n",
    "  \n",
    "    if r < n and arr[largest] < arr[r]:\n",
    "        largest = r\n",
    "  \n",
    "    if largest != i:\n",
    "        (arr[i], arr[largest]) = (arr[largest], arr[i])  \n",
    "\n",
    "        heapify(arr, n, largest)\n",
    "\n",
    "def heapSort(arr):\n",
    "    n = len(arr)\n",
    "  \n",
    "    for i in range(n // 2 - 1, -1, -1):\n",
    "        heapify(arr, n, i)\n",
    "  \n",
    "  \n",
    "    for i in range(n - 1, 0, -1):\n",
    "        (arr[i], arr[0]) = (arr[0], arr[i])  # swap\n",
    "        heapify(arr, i, 0)"
   ]
  },
  {
   "cell_type": "markdown",
   "metadata": {},
   "source": [
    "Use the cell below to implement the requested API by means of **sequential search**."
   ]
  },
  {
   "cell_type": "code",
   "execution_count": null,
   "metadata": {},
   "outputs": [],
   "source": [
    "class SequentialSearchSet(AbstractSet):\n",
    "    \n",
    "    def __init__(self):\n",
    "        # ADD YOUR CODE HERE\n",
    "        self.array = []        \n",
    "     \n",
    "    \n",
    "        \n",
    "    def insertElement(self, element):\n",
    "        inserted = False\n",
    "        # ADD YOUR CODE HERE\n",
    "        #for i in len(self.array):\n",
    "        #    if element < self.array[i]:\n",
    "        #        self.array.insert(i, element)\n",
    "        #        inserted = True\n",
    "        #        break\n",
    "        if element in self.array:\n",
    "            inserted = False\n",
    "        else:\n",
    "            self.array.append(element)\n",
    "            inserted = True\n",
    "        return inserted\n",
    "    \n",
    "    \n",
    "\n",
    "    def searchElement(self, element):     \n",
    "        found = False\n",
    "        # ADD YOUR CODE HERE\n",
    "        for i in self.array:\n",
    "            if i == element:\n",
    "                found = True\n",
    "                break\n",
    "        \n",
    "        return found\n",
    "\n",
    "def takingTime(codeToExecInString, numberOfExecution):\n",
    "    code = codeToExecInString\n",
    "    executionTime = timeit.timeit(code, globals = globals(), number=numberOfExecution)\n",
    "#     print(f\"Execution Time: {executionTime} seconds\")\n",
    "    return executionTime\n",
    "\n",
    "file = open(\"/Users/alexionugroho/Desktop/class/Algorithm/Archive/testfiles/test3-dickens.txt\" , \"r\")\n",
    "data = file.read().split()\n",
    "file.close()\n",
    "\n",
    "file2 = open(\"/Users/alexionugroho/Desktop/class/Algorithm/Archive/testfiles/test-search.txt\" , \"r\")\n",
    "data2 = file2.read().split()\n",
    "file2.close()\n",
    "\n",
    "ar = SequentialSearchSet()\n",
    "x = []\n",
    "y = []\n",
    "for num in range(len(data)):\n",
    "    if num % 100000 == 1:\n",
    "        x.append(num)\n",
    "        ti = timeit.Timer(lambda: ar.insertElement(data[num]))\n",
    "        y.append(ti.timeit(number=1))\n",
    "    else:\n",
    "        ar.insertElement(data[num])\n",
    "\n",
    "\n",
    "\n",
    "xs = []\n",
    "ys = []\n",
    "for num in range(len(data2)):\n",
    "    if num % 10 == 1:\n",
    "        xs.append(num)\n",
    "        ti = timeit.Timer(lambda: ar.searchElement(data2[num]))\n",
    "        ys.append(ti.timeit(number=1))\n",
    "    else:\n",
    "        ar.searchElement(data2[num])\n",
    "\n",
    "print(ys)\n",
    "fig, (iplot, splot) = plt.subplots(2)\n",
    "iplot.plot(x, y)\n",
    "iplot.set_title(\"Insert Operation\")\n",
    "\n",
    "splot.plot(xs, ys)\n",
    "splot.set_title(\"Search Operation\")\n",
    "\n",
    "# ar.array = []\n",
    "# print(ar.insertElement(9))\n",
    "# print(ar.searchElement(5))\n",
    "# print(ar.searchElement(9))"
   ]
  },
  {
   "cell_type": "markdown",
   "metadata": {},
   "source": [
    "Use the cell below to implement the requested API by means of **binary search tree**."
   ]
  },
  {
   "cell_type": "code",
   "execution_count": 13,
   "metadata": {},
   "outputs": [
    {
     "data": {
      "text/plain": [
       "<function matplotlib.pyplot.show(close=None, block=None)>"
      ]
     },
     "execution_count": 13,
     "metadata": {},
     "output_type": "execute_result"
    },
    {
     "data": {
      "image/png": "[encoded data removed]",
      "text/plain": [
       "<Figure size 640x480 with 1 Axes>"
      ]
     },
     "metadata": {},
     "output_type": "display_data"
    }
   ],
   "source": [
    "class Node:\n",
    "    def __init__(self, key):\n",
    "        self.key = key\n",
    "        self.left = None\n",
    "        self.right = None\n",
    "\n",
    "class BinarySearchTreeSet(AbstractSet):\n",
    "    \n",
    "    def __init__(self):\n",
    "        # ADD YOUR CODE HERE\n",
    "        self.root = None\n",
    "             \n",
    "    def insertElement(self, element):\n",
    "        inserted = False\n",
    "        # ADD YOUR CODE HERE\n",
    "        new_node = Node(element)\n",
    "        if self.root == None:\n",
    "            self.root = new_node\n",
    "            return True\n",
    "        else:\n",
    "            curr = self.root\n",
    "            while True:\n",
    "                if curr.key == element:\n",
    "                    return False\n",
    "                if element < curr.key:\n",
    "                    if curr.left is None:\n",
    "                        curr.left = new_node\n",
    "                        return True\n",
    "                    else:\n",
    "                        curr = curr.left\n",
    "                else:\n",
    "                    if curr.right is None:\n",
    "                        curr.right = new_node\n",
    "                        return True\n",
    "                    else:\n",
    "                        curr = curr.right\n",
    "            \n",
    "        return inserted  \n",
    "\n",
    "    def searchElement(self, element):     \n",
    "        found = False\n",
    "        # ADD YOUR CODE HERE\n",
    "        curr = self.root\n",
    "        while curr is not None:\n",
    "            if curr.key == element:\n",
    "                return True\n",
    "            elif element < curr.key:\n",
    "                curr = curr.left\n",
    "            else:\n",
    "                curr = curr.right\n",
    "        return found\n",
    "\n",
    "def takingTime(codeToExecInString, numberOfExecution):\n",
    "    code = codeToExecInString\n",
    "    executionTime = timeit.timeit(code, globals = globals(), number=numberOfExecution)\n",
    "#     print(f\"Execution Time: {executionTime} seconds\")\n",
    "    return executionTime\n",
    "\n",
    "\n",
    "file = open(\"/Users/alexionugroho/Desktop/class/Algorithm/Archive/testfiles/test3-dickens.txt\" , \"r\")\n",
    "data = file.read().split()\n",
    "file.close()\n",
    "\n",
    "file2 = open(\"/Users/alexionugroho/Desktop/class/Algorithm/Archive/testfiles/test-search.txt\" , \"r\")\n",
    "data2 = file2.read().split()\n",
    "file2.close()\n",
    "\n",
    "tree = BinarySearchTreeSet()\n",
    "x = []\n",
    "y = []\n",
    "for num in range(len(data)):\n",
    "    if num % 100000 == 1:\n",
    "        x.append(num)\n",
    "        ti = timeit.Timer(lambda: tree.insertElement(data[num]))\n",
    "        y.append(ti.timeit(number=1))\n",
    "    else:\n",
    "        tree.insertElement(data[num])\n",
    "\n",
    "plt.plot(x, y)\n",
    "plt.show\n",
    "\n",
    "\n",
    "# print(tree.key)\n",
    "# print(tree.left.key)\n",
    "\n",
    "    \n",
    "# tree = BinarySearchTreeSet()\n",
    "# print(tree.insertElement(4))\n",
    "# print(tree.insertElement(3))\n",
    "# print(tree.insertElement(1))\n",
    "# print(tree.insertElement(2))\n",
    "# print(tree.insertElement(8))\n",
    "# print(tree.root.key)\n",
    "# print(tree.root.right.key)\n",
    "# print(tree.root.left.key)\n",
    "# print(tree.searchElement(7))"
   ]
  },
  {
   "cell_type": "markdown",
   "metadata": {},
   "source": [
    "Use the cell below to implement the requested API by means of **balanced search tree**."
   ]
  },
  {
   "cell_type": "code",
   "execution_count": null,
   "metadata": {},
   "outputs": [],
   "source": [
    "class BalancedSearchTreeSet(AbstractSet):\n",
    "    \n",
    "    def __init__(self, key=(None, None)):\n",
    "        # ADD YOUR CODE HERE\n",
    "        self.key = key\n",
    "        self.left = (None, None)\n",
    "        self.right = (None, None)\n",
    "        self.mid = (None, None)\n",
    "\n",
    "        \n",
    "        pass           \n",
    "     \n",
    "    \n",
    "        \n",
    "    def insertElement(self, element):\n",
    "        inserted = False\n",
    "        # ADD YOUR CODE HERE\n",
    "      \n",
    "        \n",
    "        return inserted\n",
    "    \n",
    "    \n",
    "\n",
    "    def searchElement(self, element):     \n",
    "        found = False\n",
    "        # ADD YOUR CODE HERE\n",
    "\n",
    "        \n",
    "        return found    "
   ]
  },
  {
   "cell_type": "markdown",
   "metadata": {},
   "source": [
    "Use the cell below to implement the requested API by means of **bloom filter**."
   ]
  },
  {
   "cell_type": "code",
   "execution_count": 32,
   "metadata": {},
   "outputs": [
    {
     "name": "stdout",
     "output_type": "stream",
     "text": [
      "[6.124999345047399e-06, 6.0420006775530055e-06, 2.749999111983925e-06, 2.6249999791616574e-06, 2.5839999580057338e-06, 2.583001332823187e-06, 2.6249999791616574e-06, 2.749999111983925e-06, 2.5000008463393897e-06, 2.499999027349986e-06, 2.7500009309733286e-06, 2.5829995138337836e-06, 7.499984349124134e-07, 2.958000550279394e-06, 2.6249999791616574e-06, 2.5420013116672635e-06, 2.54199949267786e-06, 2.458000381011516e-06, 2.6249999791616574e-06, 2.5829995138337836e-06, 3.541001206031069e-06, 2.6670004444895312e-06, 2.4579985620221123e-06, 2.6249999791616574e-06, 2.6249999791616574e-06, 2.5829995138337836e-06, 2.5839999580057338e-06, 2.708000465645455e-06, 2.6249999791616574e-06, 7.500002539018169e-07, 2.415999915683642e-06, 2.4169985408661887e-06, 2.4579985620221123e-06, 2.499999027349986e-06, 5.830006557516754e-07, 2.5420013116672635e-06, 2.3749998945277184e-06, 2.499999027349986e-06, 2.458000381011516e-06, 2.458000381011516e-06, 2.6249999791616574e-06, 2.458000381011516e-06, 2.5829995138337836e-06, 2.7500009309733286e-06, 2.3329994291998446e-06, 2.458000381011516e-06, 2.666000000317581e-06, 2.54199949267786e-06, 2.54199949267786e-06, 2.5829995138337836e-06, 2.5420013116672635e-06, 2.5000008463393897e-06, 2.5000008463393897e-06, 2.458000381011516e-06, 2.458000381011516e-06]\n"
     ]
    },
    {
     "data": {
      "text/plain": [
       "Text(0.5, 1.0, 'Search Operation')"
      ]
     },
     "execution_count": 32,
     "metadata": {},
     "output_type": "execute_result"
    },
    {
     "data": {
      "image/png": "[encoded data removed]",
      "text/plain": [
       "<Figure size 640x480 with 2 Axes>"
      ]
     },
     "metadata": {},
     "output_type": "display_data"
    }
   ],
   "source": [
    "from bitarray import bitarray\n",
    "import timeit\n",
    "from matplotlib import pyplot as plt\n",
    "\n",
    "\n",
    "class BloomFilterSet(AbstractSet):\n",
    "    def __init__(self, word_num=0):\n",
    "        # ADD YOUR CODE HERE\n",
    "        # initialize an empty bitarray\n",
    "        bit_num = int(-word_num*(self.ln(0.001)) / (self.ln(2)**2))\n",
    "        self.num_hashes = int(bit_num / word_num * self.ln(2))\n",
    "        self.bitfield = bitarray(bit_num)\n",
    "        self.bitfield.setall(0)\n",
    "    \n",
    "    @staticmethod\n",
    "    def ln(x):\n",
    "        n = 1000.0\n",
    "        return n * ((x ** (1/n)) - 1)\n",
    "    \n",
    "    def get_index(self, key):\n",
    "        return hash(key) % len(self.bitfield)\n",
    "        \n",
    "    def insertElement(self, element):\n",
    "        # ADD YOUR CODE HERE\n",
    "        for i in range(self.num_hashes):\n",
    "            index = self.get_index(element + str(i))\n",
    "            self.bitfield[index] = True\n",
    "        return True\n",
    "    \n",
    "\n",
    "    def searchElement(self, element):     \n",
    "        # ADD YOUR CODE HERE\n",
    "        for i in range(self.num_hashes):\n",
    "            index = self.get_index(element + str(i))\n",
    "            if not self.bitfield[index]:\n",
    "                return False\n",
    "        return True\n",
    "\n",
    "def takingTime(codeToExecInString, numberOfExecution):\n",
    "    code = codeToExecInString\n",
    "    executionTime = timeit.timeit(code, globals = globals(), number=numberOfExecution)\n",
    "#     print(f\"Execution Time: {executionTime} seconds\")\n",
    "    return executionTime\n",
    "\n",
    "file = open(\"/Users/alexionugroho/Desktop/class/Algorithm/Archive/testfiles/test3-dickens.txt\" , \"r\")\n",
    "data = file.read().split()\n",
    "file.close()\n",
    "\n",
    "file2 = open(\"/Users/alexionugroho/Desktop/class/Algorithm/Archive/testfiles/test-search.txt\" , \"r\")\n",
    "data2 = file2.read().split()\n",
    "file2.close()\n",
    "\n",
    "bf = BloomFilterSet(len(data))\n",
    "x = []\n",
    "y = []\n",
    "for num in range(len(data)):\n",
    "    if num % 100000 == 1:\n",
    "        x.append(num)\n",
    "        ti = timeit.Timer(lambda: bf.insertElement(data[num]))\n",
    "        y.append(ti.timeit(number=1))\n",
    "    else:\n",
    "        bf.insertElement(data[num])\n",
    "\n",
    "\n",
    "\n",
    "xs = []\n",
    "ys = []\n",
    "for num in range(len(data2)):\n",
    "    if num % 10 == 1:\n",
    "        xs.append(num)\n",
    "        ti = timeit.Timer(lambda: bf.searchElement(data2[num]))\n",
    "        ys.append(ti.timeit(number=1))\n",
    "    else:\n",
    "        bf.searchElement(data2[num])\n",
    "\n",
    "print(ys)\n",
    "fig, (iplot, splot) = plt.subplots(2)\n",
    "iplot.plot(x, y)\n",
    "iplot.set_title(\"Insert Operation\")\n",
    "\n",
    "splot.plot(xs, ys)\n",
    "splot.set_title(\"Search Operation\")\n",
    "# print(\"Time for Searching\")\n",
    "# for word in data:\n",
    "#     takingTime(\"bf.searchElement(word)\", 1)\n",
    "\n",
    "# print(bf.searchElement(\"always\"))\n",
    "# print(bf.searchElement(\"alexio\"))\n",
    "# print(bf.searchElement(\"david\"))\n",
    "# print(bf.searchElement(\"eight\"))\n",
    "# print(bf.searchElement(\"alcohol\"))"
   ]
  },
  {
   "cell_type": "markdown",
   "metadata": {},
   "source": [
    "Use the cell below to implement the **synthetic data generator** as part of your experimental framework."
   ]
  },
  {
   "cell_type": "code",
   "execution_count": 8,
   "metadata": {},
   "outputs": [
    {
     "name": "stdout",
     "output_type": "stream",
     "text": [
      "['kxpsqxpt', 'g', 'b', 'gbarpbj', 'o', 'lwqazfavsb', 'yzemyrrzr', 'ttfcmeswa', 'hiamzmync', 'qngditlxnj', 'p', 'qgwmb', 'pkswrjk', 'w', 'psikq', 'bdnpyfqo', 'zhtd', 'e', 'bgpbnaiqfq', 'j', 'x', 'gfhdsoo', 'uomp', 'rpsfsm', 'qzghermg', 'nzrt', 'yotycg', 'y', 'hrca', 'zl', 'nvmzcarl', 'yij', 'zdtu', 'bopdo', 'umcqqt', 'ckkssvgte', 'dfpzorjyb', 'szzhf', 'lxvih', 'ramhcgtve', 'wmysssx', 'hhbxtltwj', 'dbkfchnqtc', 'ppacrajyqm', 'dhrouwaldk', 'hldbabdl', 'ns', 'ljbz', 'uah', 'fctpmgzkzv', 'gbyavosmx', 'edinfocr', 'kvnqelvfk', 'gzv', 'y', 'uawl', 'jvgmfidx', 'gdq', 'nllbff', 'yehlkzdq', 'sn', 'mam', 'mjhjwd', 'n', 'lgllgbecua', 'fpzte', 'ovvobs', 'engz', 'x', 'rnonf', 'jdgvm', 'al', 'msfvwgqa', 'wffkman', 'ukhdzapjuk', 'algxk', 'uwmnantkr', 'lsslr', 'wsphxr', 'qmaradyq', 'nlkplpmnd', 'uejegjmqe', 'zaszhvzxfu', 'ry', 'ex', 'hcilw', 'w', 'qwpwdx', 've', 'zieaalw', 'uco', 'awruqd', 'rw', 'wxb', 'ydeu', 'rrw', 'wlgxy', 'zqocskt', 'zhj', 'mtzbrjeywt']\n"
     ]
    }
   ],
   "source": [
    "import string\n",
    "import random\n",
    "\n",
    "class TestDataGenerator(AbstractTestDataGenerator):\n",
    "    \n",
    "    def __init__(self):\n",
    "        # ADD YOUR CODE HERE\n",
    "        \n",
    "        \n",
    "        pass           \n",
    "        \n",
    "    def generateData(self, size):     \n",
    "        # ADD YOUR CODE HERE\n",
    "        data = [\"\"]*size\n",
    "        for i in range(size):\n",
    "            lgth = random.randint(1, 10)\n",
    "            for j in range(lgth):\n",
    "                data[i] += (random.choice(string.ascii_lowercase))\n",
    "        \n",
    "        return data   \n",
    "\n",
    "test = TestDataGenerator()\n",
    "print(test.generateData(100))"
   ]
  },
  {
   "cell_type": "markdown",
   "metadata": {},
   "source": [
    "Use the cells below for the python code needed to **fully evaluate your implementations**, first on real data and subsequently on synthetic data (i.e., read data from test files / generate synthetic one, instantiate each of the 4 set implementations in turn, then thorouhgly experiment with insert/search operations and measure their performance)."
   ]
  },
  {
   "cell_type": "code",
   "execution_count": 32,
   "metadata": {},
   "outputs": [
    {
     "name": "stdout",
     "output_type": "stream",
     "text": [
      "enter the file name: dunnon ma g\n"
     ]
    },
    {
     "ename": "FileNotFoundError",
     "evalue": "[Errno 2] No such file or directory: 'dunnon ma g'",
     "output_type": "error",
     "traceback": [
      "\u001b[0;31m---------------------------------------------------------------------------\u001b[0m",
      "\u001b[0;31mFileNotFoundError\u001b[0m                         Traceback (most recent call last)",
      "Cell \u001b[0;32mIn[32], line 5\u001b[0m\n\u001b[1;32m      1\u001b[0m \u001b[38;5;28;01mimport\u001b[39;00m \u001b[38;5;21;01mtimeit\u001b[39;00m\n\u001b[1;32m      3\u001b[0m \u001b[38;5;66;03m# ADD YOUR TEST CODE HERE TO WORK ON REAL DATA\u001b[39;00m\n\u001b[1;32m      4\u001b[0m \u001b[38;5;66;03m# SequentialSearchTree\u001b[39;00m\n\u001b[0;32m----> 5\u001b[0m file \u001b[38;5;241m=\u001b[39m \u001b[38;5;28;43mopen\u001b[39;49m\u001b[43m(\u001b[49m\u001b[38;5;28;43minput\u001b[39;49m\u001b[43m(\u001b[49m\u001b[38;5;124;43m\"\u001b[39;49m\u001b[38;5;124;43menter the file name: \u001b[39;49m\u001b[38;5;124;43m\"\u001b[39;49m\u001b[43m)\u001b[49m\u001b[43m,\u001b[49m\u001b[43m \u001b[49m\u001b[38;5;124;43m\"\u001b[39;49m\u001b[38;5;124;43mr\u001b[39;49m\u001b[38;5;124;43m\"\u001b[39;49m\u001b[43m)\u001b[49m\n\u001b[1;32m      6\u001b[0m arr \u001b[38;5;241m=\u001b[39m SequentialSearchSet()\n\u001b[1;32m      7\u001b[0m \u001b[38;5;28;01mfor\u001b[39;00m line \u001b[38;5;129;01min\u001b[39;00m file:\n",
      "File \u001b[0;32m/opt/homebrew/lib/python3.10/site-packages/IPython/core/interactiveshell.py:282\u001b[0m, in \u001b[0;36m_modified_open\u001b[0;34m(file, *args, **kwargs)\u001b[0m\n\u001b[1;32m    275\u001b[0m \u001b[38;5;28;01mif\u001b[39;00m file \u001b[38;5;129;01min\u001b[39;00m {\u001b[38;5;241m0\u001b[39m, \u001b[38;5;241m1\u001b[39m, \u001b[38;5;241m2\u001b[39m}:\n\u001b[1;32m    276\u001b[0m     \u001b[38;5;28;01mraise\u001b[39;00m \u001b[38;5;167;01mValueError\u001b[39;00m(\n\u001b[1;32m    277\u001b[0m         \u001b[38;5;124mf\u001b[39m\u001b[38;5;124m\"\u001b[39m\u001b[38;5;124mIPython won\u001b[39m\u001b[38;5;124m'\u001b[39m\u001b[38;5;124mt let you open fd=\u001b[39m\u001b[38;5;132;01m{\u001b[39;00mfile\u001b[38;5;132;01m}\u001b[39;00m\u001b[38;5;124m by default \u001b[39m\u001b[38;5;124m\"\u001b[39m\n\u001b[1;32m    278\u001b[0m         \u001b[38;5;124m\"\u001b[39m\u001b[38;5;124mas it is likely to crash IPython. If you know what you are doing, \u001b[39m\u001b[38;5;124m\"\u001b[39m\n\u001b[1;32m    279\u001b[0m         \u001b[38;5;124m\"\u001b[39m\u001b[38;5;124myou can use builtins\u001b[39m\u001b[38;5;124m'\u001b[39m\u001b[38;5;124m open.\u001b[39m\u001b[38;5;124m\"\u001b[39m\n\u001b[1;32m    280\u001b[0m     )\n\u001b[0;32m--> 282\u001b[0m \u001b[38;5;28;01mreturn\u001b[39;00m \u001b[43mio_open\u001b[49m\u001b[43m(\u001b[49m\u001b[43mfile\u001b[49m\u001b[43m,\u001b[49m\u001b[43m \u001b[49m\u001b[38;5;241;43m*\u001b[39;49m\u001b[43margs\u001b[49m\u001b[43m,\u001b[49m\u001b[43m \u001b[49m\u001b[38;5;241;43m*\u001b[39;49m\u001b[38;5;241;43m*\u001b[39;49m\u001b[43mkwargs\u001b[49m\u001b[43m)\u001b[49m\n",
      "\u001b[0;31mFileNotFoundError\u001b[0m: [Errno 2] No such file or directory: 'dunnon ma g'"
     ]
    }
   ],
   "source": [
    "import timeit\n",
    "\n",
    "# ADD YOUR TEST CODE HERE TO WORK ON REAL DATA\n",
    "# SequentialSearchTree\n",
    "# Inserting\n",
    "file = open(input(\"enter the file name: \"), \"r\")\n",
    "arr = SequentialSearchSet()\n",
    "for line in file:\n",
    "    for word in line.split():\n",
    "        arr.array.append(word)\n",
    "file.close()\n",
    "\n",
    "# Searching (Need to open file again)\n",
    "print(arr.searchElement(\"always\"))\n",
    "print(arr.searchElement(\"asjfhouawhfoqwainfasp\"))\n",
    "print(arr.array)\n",
    "\n",
    "# BinarySearchTree\n",
    "file = open(input(\"enter the file name: \"), \"r\")\n",
    "data = file.read().split()\n",
    "tree = BinarySearchTreeSet(data[0])\n",
    "for num in range(1, len(data)):\n",
    "    tree.insertElement(data[num])\n",
    "file.close()\n",
    "\n",
    "print(tree.key)\n",
    "print(tree.left.key)\n",
    "\n",
    "# BloomFilterSet\n",
    "# Inserting"
   ]
  },
  {
   "cell_type": "code",
   "execution_count": 9,
   "metadata": {},
   "outputs": [],
   "source": [
    "import timeit\n",
    "\n",
    "# ADD YOUR TEST CODE HERE TO WORK ON SYNTHETIC DATA\n",
    "\n",
    "\n",
    "\n"
   ]
  }
 ],
 "metadata": {
  "kernelspec": {
   "display_name": "Python 3 (ipykernel)",
   "language": "python",
   "name": "python3"
  },
  "language_info": {
   "codemirror_mode": {
    "name": "ipython",
    "version": 3
   },
   "file_extension": ".py",
   "mimetype": "text/x-python",
   "name": "python",
   "nbconvert_exporter": "python",
   "pygments_lexer": "ipython3",
   "version": "3.10.8"
  },
  "vscode": {
   "interpreter": {
    "hash": "b0fa6594d8f4cbf19f97940f81e996739fb7646882a419484c72d19e05852a7e"
   }
  }
 },
 "nbformat": 4,
 "nbformat_minor": 4
}
